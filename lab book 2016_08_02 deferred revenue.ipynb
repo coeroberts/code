{
 "cells": [
  {
   "cell_type": "code",
   "execution_count": 1,
   "metadata": {
    "collapsed": false
   },
   "outputs": [],
   "source": [
    "import sys\n",
    "import os\n",
    "from datetime import datetime as dt\n",
    "import impala\n",
    "import numpy\n",
    "import pandas as pd"
   ]
  },
  {
   "cell_type": "code",
   "execution_count": 2,
   "metadata": {
    "collapsed": false
   },
   "outputs": [
    {
     "name": "stdout",
     "output_type": "stream",
     "text": [
      "2017-01-03 12:27:22: Reading.\n",
      "2017-01-03 12:27:24: Done reading.\n"
     ]
    }
   ],
   "source": [
    "# To change every month: input filename here and output filename at end.\n",
    "\n",
    "print '{:%Y-%m-%d %H:%M:%S}: {}'.format(dt.now(), \"Reading.\")\n",
    "# df = pd.read_csv(\"C:\\Users\\croberts\\Documents\\projects\\deferred revenue\\deferred_revenue_dataset_sample.csv\") \n",
    "df = pd.read_csv(\"C:\\Users\\croberts\\Documents\\projects\\deferred revenue\\deferred_revenue_dataset_2016_12_on_2017_01_03a.csv\")\n",
    "print '{:%Y-%m-%d %H:%M:%S}: {}'.format(dt.now(), \"Done reading.\")"
   ]
  },
  {
   "cell_type": "code",
   "execution_count": 3,
   "metadata": {
    "collapsed": false
   },
   "outputs": [
    {
     "name": "stdout",
     "output_type": "stream",
     "text": [
      "2017-01-03 12:27:24: Processing...\n",
      "2017-01-03 12:28:37:     500\n",
      "2017-01-03 12:29:44:   1,000\n",
      "2017-01-03 12:30:47:   1,500\n",
      "2017-01-03 12:31:46:   2,000\n",
      "2017-01-03 12:32:46:   2,500\n",
      "2017-01-03 12:33:43:   3,000\n",
      "2017-01-03 12:34:42:   3,500\n",
      "2017-01-03 12:35:45:   4,000\n",
      "2017-01-03 12:36:46:   4,500\n",
      "2017-01-03 12:37:44:   5,000\n",
      "2017-01-03 12:38:47:   5,500\n",
      "2017-01-03 12:39:52:   6,000\n",
      "2017-01-03 12:40:51:   6,500\n",
      "2017-01-03 12:41:54:   7,000\n",
      "2017-01-03 12:42:48:   7,500\n",
      "2017-01-03 12:43:48:   8,000\n",
      "2017-01-03 12:44:49:   8,500\n",
      "2017-01-03 12:45:45:   9,000\n",
      "2017-01-03 12:46:42:   9,500\n",
      "2017-01-03 12:47:43:  10,000\n",
      "2017-01-03 12:48:37:  10,500\n",
      "2017-01-03 12:49:37:  11,000\n",
      "2017-01-03 12:50:38:  11,500\n",
      "2017-01-03 12:51:36:  12,000\n",
      "2017-01-03 12:52:35:  12,500\n",
      "2017-01-03 12:53:33:  13,000\n",
      "2017-01-03 12:54:35:  13,500\n",
      "2017-01-03 12:55:32:  14,000\n",
      "2017-01-03 12:56:32:  14,500\n",
      "2017-01-03 12:57:30:  15,000\n",
      "2017-01-03 12:58:15:  15,500\n",
      "2017-01-03 12:59:19:  16,000\n",
      "2017-01-03 13:00:14:  16,500\n",
      "2017-01-03 13:01:11:  17,000\n",
      "2017-01-03 13:02:09:  17,500\n",
      "2017-01-03 13:03:11:  18,000\n",
      "2017-01-03 13:04:14:  18,500\n",
      "2017-01-03 13:05:17:  19,000\n",
      "2017-01-03 13:06:16:  19,500\n",
      "2017-01-03 13:07:19:  20,000\n",
      "2017-01-03 13:08:15:  20,500\n",
      "2017-01-03 13:09:14:  21,000\n",
      "2017-01-03 13:10:11:  21,500\n",
      "2017-01-03 13:11:10:  22,000\n",
      "2017-01-03 13:12:09:  22,500\n",
      "2017-01-03 13:13:07:  23,000\n",
      "2017-01-03 13:14:13:  23,500\n",
      "2017-01-03 13:15:12:  24,000\n",
      "2017-01-03 13:16:13:  24,500\n",
      "2017-01-03 13:17:15:  25,000\n",
      "2017-01-03 13:18:12:  25,500\n",
      "2017-01-03 13:19:12:  26,000\n",
      "2017-01-03 13:20:12:  26,500\n",
      "2017-01-03 13:21:07:  27,000\n",
      "2017-01-03 13:22:01:  27,500\n",
      "2017-01-03 13:22:56:  28,000\n",
      "2017-01-03 13:23:52:  28,500\n",
      "2017-01-03 13:24:46:  29,000\n",
      "2017-01-03 13:25:41:  29,500\n",
      "2017-01-03 13:26:36:  30,000\n",
      "2017-01-03 13:27:32:  30,500\n",
      "2017-01-03 13:28:34:  31,000\n",
      "2017-01-03 13:29:35:  31,500\n",
      "2017-01-03 13:30:36:  32,000\n",
      "2017-01-03 13:31:37:  32,500\n",
      "2017-01-03 13:32:37:  33,000\n",
      "2017-01-03 13:33:35:  33,500\n",
      "2017-01-03 13:34:34:  34,000\n",
      "2017-01-03 13:35:33:  34,500\n",
      "2017-01-03 13:36:28:  35,000\n",
      "2017-01-03 13:37:26:  35,500\n",
      "2017-01-03 13:38:20:  36,000\n",
      "2017-01-03 13:39:18:  36,500\n",
      "2017-01-03 13:40:14:  37,000\n",
      "2017-01-03 13:41:07:  37,500\n",
      "2017-01-03 13:42:02:  38,000\n",
      "2017-01-03 13:42:57:  38,500\n",
      "2017-01-03 13:43:53:  39,000\n",
      "2017-01-03 13:44:46:  39,500\n",
      "2017-01-03 13:45:40:  40,000\n",
      "2017-01-03 13:46:26:  40,500\n",
      "2017-01-03 13:47:13:  41,000\n",
      "2017-01-03 13:47:58:  41,500\n",
      "2017-01-03 13:48:56:  42,000\n",
      "2017-01-03 13:49:52:  42,500\n",
      "2017-01-03 13:50:49:  43,000\n",
      "2017-01-03 13:51:44:  43,500\n",
      "2017-01-03 13:52:41:  44,000\n",
      "2017-01-03 13:53:34:  44,500\n",
      "2017-01-03 13:54:30:  45,000\n",
      "2017-01-03 13:55:28:  45,500\n",
      "2017-01-03 13:56:24:  46,000\n",
      "2017-01-03 13:57:15:  46,500\n",
      "2017-01-03 13:58:07:  47,000\n",
      "2017-01-03 13:58:58:  47,500\n",
      "2017-01-03 13:59:52:  48,000\n",
      "2017-01-03 14:00:47:  48,500\n",
      "2017-01-03 14:01:35:  49,000\n",
      "2017-01-03 14:02:34:  49,500\n",
      "2017-01-03 14:03:34:  50,000\n",
      "2017-01-03 14:04:35:  50,500\n",
      "2017-01-03 14:05:29:  51,000\n",
      "2017-01-03 14:06:21:  51,500\n",
      "2017-01-03 14:07:10:  52,000\n",
      "2017-01-03 14:07:53: Done processing.\n"
     ]
    }
   ],
   "source": [
    "my_list = []\n",
    "loop_counter = 0\n",
    "print '{:%Y-%m-%d %H:%M:%S}: {}'.format(dt.now(), \"Processing...\")\n",
    "for pid in df[\"processing_id\"].unique():\n",
    "    loop_counter = loop_counter + 1\n",
    "    if loop_counter % 500 == 0: print '{:%Y-%m-%d %H:%M:%S}: {:7,}'.format(dt.now(), loop_counter)\n",
    "    df1 = df[df['processing_id']==pid]\n",
    "    prev_month_eff_target = 0  #?\n",
    "    prev_month_liability_impressions = 0\n",
    "    for month in df1[\"year_month_num\"].sort_values():\n",
    "        # print \".\",\n",
    "        ad_impressions = df1[df1['year_month_num']==month][\"ad_impressions\"].values[0]\n",
    "        contract_target = df1[df1['year_month_num']==month][\"target_impressions\"].values[0]\n",
    "        ad_sold_price = df1[df1['year_month_num']==month][\"ad_sold_price\"].values[0]\n",
    "        over_under = df1[df1['year_month_num']==month][\"over_under\"].values[0]\n",
    "        prev_month_over_under = df1[df1['year_month_num']==month][\"prev_month_over_under\"].values[0]\n",
    "        trailing_3mo_over_under = df1[df1['year_month_num']==month][\"trailing_3mo_over_under\"].values[0]\n",
    "\n",
    "        if prev_month_liability_impressions > 0:  # Carrying forward a deferral need\n",
    "            curr_month_eff_target = max(contract_target, contract_target + prev_month_liability_impressions + -1 * over_under)\n",
    "        else:\n",
    "            if trailing_3mo_over_under < 0:  # Underdelivered in trailing 3mo\n",
    "                curr_month_eff_target = contract_target + -1 * trailing_3mo_over_under\n",
    "            else:\n",
    "                curr_month_eff_target = contract_target\n",
    "\n",
    "        if curr_month_eff_target > contract_target:\n",
    "            liability_impressions = curr_month_eff_target - contract_target\n",
    "        else:\n",
    "            liability_impressions = 0\n",
    "\n",
    "        if liability_impressions == 0 or contract_target == 0 or ad_sold_price < 0:\n",
    "            liability_amount = 0.0\n",
    "        else:\n",
    "            liability_amount = (1.0 * liability_impressions / contract_target) * ad_sold_price\n",
    "\n",
    "        my_list.append({\n",
    "            \"processing_id\": pid,\n",
    "            \"ad_market_id\": df1[df1['year_month_num']==month][\"ad_market_id\"].values[0],\n",
    "            \"professional_id\": df1[df1['year_month_num']==month][\"professional_id\"].values[0],\n",
    "            \"customer_id\": df1[df1['year_month_num']==month][\"customer_id\"].values[0],\n",
    "            \"ad_mkt_key\": df1[df1['year_month_num']==month][\"ad_mkt_key\"].values[0],\n",
    "            \"ad_type\": df1[df1['year_month_num']==month][\"ad_type\"].values[0],\n",
    "            \"latest_month_with_data\": df1[df1['year_month_num']==month][\"latest_month_with_data\"].values[0],\n",
    "            \"active_in_latest_month\": df1[df1['year_month_num']==month][\"active_in_latest_month\"].values[0],\n",
    "            \"cancelled_in_current_month\": df1[df1['year_month_num']==month][\"cancelled_in_current_month\"].values[0],\n",
    "            \"cancelled_in_latest_month\": df1[df1['year_month_num']==month][\"cancelled_in_latest_month\"].values[0],\n",
    "            \"include_in_latest_month_data\": df1[df1['year_month_num']==month][\"include_in_latest_month_data\"].values[0],\n",
    "            \"ad_impressions\": ad_impressions,\n",
    "            \"year_month_num\": month,\n",
    "            \"ad_impressions\": ad_impressions,\n",
    "            \"contract_target\": contract_target,\n",
    "            \"ad_sold_price\": ad_sold_price,\n",
    "            \"over_under\": over_under,\n",
    "            \"prev_month_over_under\": prev_month_over_under,\n",
    "            \"trailing_3mo_over_under\": trailing_3mo_over_under,\n",
    "            \"prev_month_eff_target\": prev_month_eff_target,\n",
    "            \"curr_month_eff_target\": curr_month_eff_target,\n",
    "            \"liability_impressions\": liability_impressions,\n",
    "            \"prev_month_liability_impressions\": prev_month_liability_impressions,\n",
    "            \"liability_amount\": liability_amount,\n",
    "            })\n",
    "        prev_month_eff_target = curr_month_eff_target  # Get set for next loop\n",
    "        prev_month_liability_impressions = liability_impressions\n",
    "print '{:%Y-%m-%d %H:%M:%S}: {}'.format(dt.now(), \"Done processing.\")"
   ]
  },
  {
   "cell_type": "code",
   "execution_count": 4,
   "metadata": {
    "collapsed": false
   },
   "outputs": [
    {
     "name": "stdout",
     "output_type": "stream",
     "text": [
      "2017-01-03 14:07:53: Writing file.\n",
      "2017-01-03 14:08:03: Done writing file.\n"
     ]
    }
   ],
   "source": [
    "print '{:%Y-%m-%d %H:%M:%S}: {}'.format(dt.now(), \"Writing file.\")\n",
    "output_df = pd.DataFrame(my_list)\n",
    "output_df.to_csv(\"C:\\Users\\croberts\\Documents\\projects\\deferred revenue\\deferred_revenue_dataset_2016_12_on_2017_01_03a_output.csv\")\n",
    "print '{:%Y-%m-%d %H:%M:%S}: {}'.format(dt.now(), \"Done writing file.\")"
   ]
  }
 ],
 "metadata": {
  "anaconda-cloud": {},
  "kernelspec": {
   "display_name": "Python [Root]",
   "language": "python",
   "name": "Python [Root]"
  },
  "language_info": {
   "codemirror_mode": {
    "name": "ipython",
    "version": 2
   },
   "file_extension": ".py",
   "mimetype": "text/x-python",
   "name": "python",
   "nbconvert_exporter": "python",
   "pygments_lexer": "ipython2",
   "version": "2.7.12"
  }
 },
 "nbformat": 4,
 "nbformat_minor": 0
}
